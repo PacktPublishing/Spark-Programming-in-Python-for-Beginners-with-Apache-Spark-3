{
 "cells": [
  {
   "cell_type": "markdown",
   "metadata": {},
   "source": [
    "## How to run pyspark in Anaconda Jupyter Notebook"
   ]
  },
  {
   "cell_type": "markdown",
   "metadata": {},
   "source": [
    " 1. Set following environment variables\n",
    " ```bat\n",
    " setx HADOOP_HOME C:\\demo\\hadoop27\n",
    " setx SPARK_HOME C:\\demo\\spark3\n",
    " setx PYSPARK_PYTHON C:\\Users\\prashant\\Anaconda3\\python \n",
    " \n",
    " ```\n",
    " 2. Start Anacoda Prompt\n",
    " 3. Install findspark uisng following command\n",
    " ```bat \n",
    " python -m pip install findspark\n",
    " \n",
    " ```\n",
    " 4. Start Jupyter Notenook"
   ]
  },
  {
   "cell_type": "code",
   "execution_count": 1,
   "metadata": {},
   "outputs": [],
   "source": [
    "import findspark\n",
    "findspark.init()\n",
    "import pyspark\n",
    "from pyspark.sql import SparkSession"
   ]
  },
  {
   "cell_type": "code",
   "execution_count": 4,
   "metadata": {
    "scrolled": true
   },
   "outputs": [
    {
     "name": "stdout",
     "output_type": "stream",
     "text": [
      "+----+--------+\n",
      "| age|    name|\n",
      "+----+--------+\n",
      "|null|Prashant|\n",
      "|  30|   Abdul|\n",
      "|  19|  Justin|\n",
      "|  43|    Andy|\n",
      "+----+--------+\n",
      "\n"
     ]
    }
   ],
   "source": [
    "spark = SparkSession.builder.getOrCreate()\n",
    "spark.read.json(\"C:/demo/notebook/data/people.json\").show()"
   ]
  }
 ],
 "metadata": {
  "kernelspec": {
   "display_name": "Python 3",
   "language": "python",
   "name": "python3"
  },
  "language_info": {
   "codemirror_mode": {
    "name": "ipython",
    "version": 3
   },
   "file_extension": ".py",
   "mimetype": "text/x-python",
   "name": "python",
   "nbconvert_exporter": "python",
   "pygments_lexer": "ipython3",
   "version": "3.7.6"
  }
 },
 "nbformat": 4,
 "nbformat_minor": 2
}
